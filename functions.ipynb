{
  "nbformat": 4,
  "nbformat_minor": 0,
  "metadata": {
    "colab": {
      "provenance": []
    },
    "kernelspec": {
      "name": "python3",
      "display_name": "Python 3"
    },
    "language_info": {
      "name": "python"
    }
  },
  "cells": [
    {
      "cell_type": "markdown",
      "source": [
        "# function"
      ],
      "metadata": {
        "id": "ID7IDivNkOdI"
      }
    },
    {
      "cell_type": "markdown",
      "source": [
        "1.  What is the difference between a function and a method in python?\n",
        "  - A function is independent and can be called from anywhere, while a method is is tied to a class or object and must be calledon on that object or within that class.\n",
        "\n",
        "2. second question\n",
        "\n",
        "  -  A this is answer for second qustion"
      ],
      "metadata": {
        "id": "Xg6uqTb2kl7C"
      }
    },
    {
      "cell_type": "code",
      "execution_count": 1,
      "metadata": {
        "colab": {
          "base_uri": "https://localhost:8080/",
          "height": 36
        },
        "id": "9Baak4ntkDRG",
        "outputId": "f083e73f-bb35-4d6d-d302-727ea4896b69"
      },
      "outputs": [
        {
          "output_type": "execute_result",
          "data": {
            "text/plain": [
              "'\\nthis is answer\\n'"
            ],
            "application/vnd.google.colaboratory.intrinsic+json": {
              "type": "string"
            }
          },
          "metadata": {},
          "execution_count": 1
        }
      ],
      "source": [
        "# question\n",
        "\n",
        "'''\n",
        "thi is answer\n",
        "'''\n",
        "\"\"\"\n",
        "this is answer\n",
        "\"\"\""
      ]
    }
  ]
}